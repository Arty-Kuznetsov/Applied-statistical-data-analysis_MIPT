{
 "cells": [
  {
   "cell_type": "code",
   "execution_count": 1,
   "id": "9511891c",
   "metadata": {},
   "outputs": [
    {
     "name": "stdout",
     "output_type": "stream",
     "text": [
      "Enter phystech e-mail\n",
      "kuznetsov.a@phystech.edu\n",
      "Your tasks are:\n",
      "1.3, 2.1, 3.3, 4.2, 5.2, 6.1\n"
     ]
    }
   ],
   "source": [
    "from zlib import crc32\n",
    "import numpy as np\n",
    "\n",
    "if __name__=='__main__':\n",
    "    mail = input('Enter phystech e-mail\\n') \n",
    "    seed = crc32(mail.strip().encode('utf-8'))%(2**32 - 1)\n",
    "    rs = np.random.RandomState(seed)\n",
    "    print('Your tasks are:')\n",
    "    print(\n",
    "        '1.{}, 2.{}, 3.{}, 4.{}, 5.{}, 6.{}'.format(\n",
    "            rs.randint(low=1, high=5), \n",
    "            rs.randint(low=1, high=5), \n",
    "            rs.randint(low=1, high=5), \n",
    "            rs.randint(low=1, high=4), \n",
    "            rs.randint(low=1, high=3), \n",
    "            rs.randint(low=1, high=3)))"
   ]
  },
  {
   "cell_type": "markdown",
   "id": "48277946",
   "metadata": {},
   "source": [
    "## Задача 1.3\n",
    "Проверить мощность и консервативность критерия Уликоксона о равенстве медиан для выборок вида:\n",
    "<p align=\"center\">\n",
    "X1: ~ alpha * N(0,1) + (1-alpha) * N(2, 4);\n",
    "</p>\n",
    "<p align=\"center\">\n",
    "X2: ~ alpha * N(0,1) + (1-alpha) * N(2, 4) + delta.\n",
    "</p>\n",
    "\n",
    "Здесь delta --- сдвиг, дающий возможность разделить выборки X1 и X2.\n",
    "\n",
    "\n",
    "Изучить зависимость от alpha и delta.\n"
   ]
  },
  {
   "cell_type": "code",
   "execution_count": 24,
   "id": "68719f73",
   "metadata": {},
   "outputs": [],
   "source": [
    "import numpy as np\n",
    "from scipy.stats import norm, wilcoxon\n",
    "from matplotlib import pyplot as plt"
   ]
  },
  {
   "cell_type": "code",
   "execution_count": 25,
   "id": "74a15a6f",
   "metadata": {},
   "outputs": [],
   "source": [
    "def sample_single(alpha,delta):\n",
    "    assert 0 <= alpha and alpha <= 1\n",
    "    if np.random.rand() <= alpha:\n",
    "        return norm(0,1).rvs() + delta\n",
    "    else:\n",
    "        return norm(2,4).rvs() + delta\n",
    "    \n",
    "def sample(size=100, alpha=0.5, delta=0):\n",
    "    return [sample_single(alpha, delta) for i in range(size)]\n",
    "    "
   ]
  },
  {
   "cell_type": "code",
   "execution_count": 52,
   "id": "84ca9ba3",
   "metadata": {},
   "outputs": [
    {
     "data": {
      "text/plain": [
       "Text(0, 0.5, 'p-value')"
      ]
     },
     "execution_count": 52,
     "metadata": {},
     "output_type": "execute_result"
    },
    {
     "data": {
      "image/png": "[encoded data removed]",
      "text/plain": [
       "<Figure size 432x288 with 1 Axes>"
      ]
     },
     "metadata": {
      "needs_background": "light"
     },
     "output_type": "display_data"
    }
   ],
   "source": [
    "average_over = 5\n",
    "\n",
    "n_array = list(range(20,200, 5))\n",
    "plt.plot(n_array,\n",
    "         [sum([wilcoxon(sample(size=n), sample(size=n, delta=2)).pvalue for i in range(average_over)])/average_over\n",
    "          for n in n_array])\n",
    "plt.xlabel('sample size')\n",
    "plt.ylabel('p-value')"
   ]
  },
  {
   "cell_type": "markdown",
   "id": "1483ac4a",
   "metadata": {},
   "source": [
    "Видим, что при уведичении размера выборки при alpha = 0.5, delta=2 p-value стремиться к нулю, из чего можно сделать вывод о том, что критерий разделяет выборки адекватно.\n",
    "\n",
    "Далее посчитаем мощность критерия и False Positive Rate в зависимости от delta при фиксированном alpha=0.5"
   ]
  },
  {
   "cell_type": "code",
   "execution_count": 78,
   "id": "6db4d551",
   "metadata": {},
   "outputs": [],
   "source": [
    "n_experiments = 100  # Количество экспериментов для подсчёта мощности и False Positive Rate \n",
    "                     # для фиксированных alpha и delta\n",
    "n = 100   # Размер выборки\n",
    "a = 0.05  # Уровень значимости\n",
    "\n",
    "\n",
    "def perform_exp(alpha, delta):\n",
    "    FPR = sum([wilcoxon(sample(size=n, alpha=alpha), sample(size=n, alpha=alpha)).pvalue < 0.05 for exp in range(n_experiments)])/n_experiments\n",
    "    power sum([wilcoxon(sample(size=n, alpha=alpha), sample(size=n, alpha=alpha)).pvalue < 0.05 for exp in range(n_experiments)])/n_experiments\n",
    "    return FPR, power"
   ]
  },
  {
   "cell_type": "code",
   "execution_count": 88,
   "id": "5c9e8e98",
   "metadata": {},
   "outputs": [],
   "source": [
    "deltas = [0,0.2,0.5,0.7,1,2,4,6,10]\n",
    "\n",
    "results_deltas = np.array([perform_exp(alpha=0.5, delta=d) for d in deltas])"
   ]
  },
  {
   "cell_type": "code",
   "execution_count": 89,
   "id": "7e5f284a",
   "metadata": {},
   "outputs": [
    {
     "data": {
      "text/plain": [
       "<matplotlib.legend.Legend at 0x7faeaa139880>"
      ]
     },
     "execution_count": 89,
     "metadata": {},
     "output_type": "execute_result"
    },
    {
     "data": {
      "image/png": "[encoded data removed]",
      "text/plain": [
       "<Figure size 432x288 with 1 Axes>"
      ]
     },
     "metadata": {
      "needs_background": "light"
     },
     "output_type": "display_data"
    }
   ],
   "source": [
    "plt.plot(deltas, results_deltas[:, 0], label=\"FPR\")\n",
    "plt.plot(deltas, results_deltas[:, 1], label=\"power\")\n",
    "plt.xlabel('delta')\n",
    "plt.grid()\n",
    "plt.legend()"
   ]
  },
  {
   "cell_type": "markdown",
   "id": "bce09e9c",
   "metadata": {},
   "source": [
    "Получили зависимость мощности критерия от параметра delta. Видно, что чем больше delta (чем проще разделить выборки теоритически), тем больше мощность критерия. \n",
    "\n",
    "В то же время критерий не консервативен - значение ошибки первого рода принимает значения вокруг выбранного уровня значимости 0.05 при всех delta. (Если бы был консервативным, то мы бы получили FPR меньше 0.05)\n",
    "\n",
    "Далее посчитаем мощность критерия и False Positive Rate в зависимости от alpha при фиксированном delta=1\n"
   ]
  },
  {
   "cell_type": "code",
   "execution_count": 86,
   "id": "7bf00913",
   "metadata": {},
   "outputs": [],
   "source": [
    "alphas = [0.1, 0.3, 0.5, 0.7, 0.9]\n",
    "\n",
    "results_alphas = np.array([perform_exp(alpha=alpha, delta=1) for alpha in alphas])"
   ]
  },
  {
   "cell_type": "code",
   "execution_count": 87,
   "id": "c6154257",
   "metadata": {},
   "outputs": [
    {
     "data": {
      "text/plain": [
       "<matplotlib.legend.Legend at 0x7faeaa189490>"
      ]
     },
     "execution_count": 87,
     "metadata": {},
     "output_type": "execute_result"
    },
    {
     "data": {
      "image/png": "[encoded data removed]",
      "text/plain": [
       "<Figure size 432x288 with 1 Axes>"
      ]
     },
     "metadata": {
      "needs_background": "light"
     },
     "output_type": "display_data"
    }
   ],
   "source": [
    "plt.plot(alphas, results_alphas[:, 0], label=\"FPR\")\n",
    "plt.plot(alphas, results_alphas[:, 1], label=\"power\")\n",
    "plt.xlabel('alpha')\n",
    "plt.grid()\n",
    "plt.legend()"
   ]
  },
  {
   "cell_type": "markdown",
   "id": "c8fffba9",
   "metadata": {},
   "source": [
    "Видно, что чем больше alpha, тем проще критерий разделяет выборки (больше мощность). Я предполагаю, что это из за того что N(0,1) имеет меньшую дисперсию, чем N(2,4). "
   ]
  },
  {
   "cell_type": "code",
   "execution_count": null,
   "id": "b6b44923",
   "metadata": {},
   "outputs": [],
   "source": []
  }
 ],
 "metadata": {
  "kernelspec": {
   "display_name": "Python 3",
   "language": "python",
   "name": "python3"
  },
  "language_info": {
   "codemirror_mode": {
    "name": "ipython",
    "version": 3
   },
   "file_extension": ".py",
   "mimetype": "text/x-python",
   "name": "python",
   "nbconvert_exporter": "python",
   "pygments_lexer": "ipython3",
   "version": "3.9.5"
  }
 },
 "nbformat": 4,
 "nbformat_minor": 5
}
