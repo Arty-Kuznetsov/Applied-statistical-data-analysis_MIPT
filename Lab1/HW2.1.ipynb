{
 "cells": [
  {
   "cell_type": "markdown",
   "id": "14c37465",
   "metadata": {},
   "source": [
    "## Задача 2.1\n",
    "\n",
    "Пусть задано два вектора ответов: $y$ — истинный вектор ответов для некоторой выборки, а также есть вектор ответов $\\hat{y}$ - некоторой предсказательной модели. Наблюдатель хочет проверить гипотезу о том, что ровно в 25% случаев модель дает заниженные оценки. \n",
    "Предложите метод проверки данной гипотезы: запишите задачу формально, \n",
    "предложите статистику для решения данной задачи на уровне значимости alpha = 0.05.\n",
    "Также найдите зависимость мощности данного критерия в зависимости от истинного\n",
    "процента заниженных ответов.\n",
    "\n",
    "Все выкладки должны быть сделаны аналитически, без использования компьютера. (допускается использование компютера для подстановвки численых значений в финальную формулу)\n"
   ]
  },
  {
   "cell_type": "markdown",
   "id": "5c0f4b38",
   "metadata": {},
   "source": [
    "\n",
    "\n",
    "\n",
    "# *  Построение критерия\n",
    "\n",
    "Построим выборку $X^n = (X_1, \\ldots, X_n)$, где $X_i = 1$, если $\\hat{y}_i < y_i$, иначе $X_i = 0$. Следовательно $X \\sim Ber(p)$. Воспользуемся биномиальным критерием:\n",
    "\n",
    "Нулевая гипотеза $H_0: p = p_0$\n",
    "\n",
    "Альтернативная гипотеза $H_1: p \\not= p_0$\n",
    "\n",
    "Статистика $T(X^n) = \\sum_{i=1}^nX_i$\n",
    "\n",
    "Нулевое распределение $Bin(n, p_0)$\n",
    "\n",
    "\n",
    "Чтобы записать достигаемый уровень значимости, введем множество событий, чья вероятность не превосходит вероятности выпадения реализовавшейся статистики $t$. Пусть $I_t = \\{i : P(T(X^n) = i) \\leq P(T(X^n) = t)\\}$. Тогда достигаемый уровень значимости запишется как:\n",
    "\n",
    "$p_t = \\sum_{i\\in I_t}P(T(X^n) = i) = \\sum_{i\\in I_t}C_n^ip_0^i(1 - p_0)^{n-i}$\n",
    "\n",
    "Таким образом, будем отвергать нулевую гипотезу, если $p_t <= \\alpha = 0.05$\n",
    "\n",
    "\n",
    "* Рассмотрим зависимость мощности критерия от истинного $p$\n",
    "\n",
    "\n",
    "Определим область принятия альтернативы при заданном $\\alpha$: $\\Omega_1 = I_{t^*}$, где $t^* = \\arg\\max_t\\{p_t : p_t \\leq \\alpha\\}$.\n",
    "\n",
    "Тогда мощность критерия: $W(p) = P(T(X^n) \\in I_{t^*}|p) = \\sum_{i\\in I_{t^*}}C_n^ip^i(1 - p)^{n - i}$\n"
   ]
  },
  {
   "cell_type": "code",
   "execution_count": 1,
   "id": "0f594ee1",
   "metadata": {},
   "outputs": [],
   "source": [
    "import numpy as np\n",
    "from matplotlib import pyplot as plt\n",
    "import seaborn as sns\n",
    "from scipy.stats import binom\n",
    "sns.set()"
   ]
  },
  {
   "cell_type": "code",
   "execution_count": 2,
   "id": "cf59195a",
   "metadata": {},
   "outputs": [
    {
     "data": {
      "image/png": "[encoded data removed]",
      "text/plain": [
       "<Figure size 432x288 with 1 Axes>"
      ]
     },
     "metadata": {},
     "output_type": "display_data"
    }
   ],
   "source": [
    "def inside_I(value, t):\n",
    "    return binom.pmf(value, n, p0) <= binom.pmf(t, n, p0)\n",
    "\n",
    "def p_value(t):\n",
    "    return sum([binom.pmf(k, n, p0) for k in range(n + 1) if inside_I(k, t)])\n",
    "\n",
    "\n",
    "def get_t_star():\n",
    "    return np.argmax([p_value(t) for t in range(n + 1) if p_value(t) <= alpha])\n",
    "\n",
    "def W(p):\n",
    "    t_star = get_t_star()\n",
    "    return sum([binom.pmf(value, n, p) for value in range(n + 1) if inside_I(value, t_star)])\n",
    "\n",
    "p0 = 0.25\n",
    "n = 15\n",
    "alpha = 0.05\n",
    "\n",
    "p_range = np.linspace(0, 1)\n",
    "plt.plot(p_range, [W(p) for p in p_range])\n",
    "plt.xlabel('True p')\n",
    "plt.ylabel('W(p)')\n",
    "plt.title('Мощность критерия')\n",
    "\n",
    "plt.show()"
   ]
  },
  {
   "cell_type": "code",
   "execution_count": null,
   "id": "237e2d56",
   "metadata": {},
   "outputs": [],
   "source": []
  }
 ],
 "metadata": {
  "kernelspec": {
   "display_name": "Python 3",
   "language": "python",
   "name": "python3"
  },
  "language_info": {
   "codemirror_mode": {
    "name": "ipython",
    "version": 3
   },
   "file_extension": ".py",
   "mimetype": "text/x-python",
   "name": "python",
   "nbconvert_exporter": "python",
   "pygments_lexer": "ipython3",
   "version": "3.9.5"
  }
 },
 "nbformat": 4,
 "nbformat_minor": 5
}
