{
 "cells": [
  {
   "cell_type": "markdown",
   "id": "10c03e8d",
   "metadata": {},
   "source": [
    "# Задача 4.2\n",
    "Рассмотрим некоторую задачу классификации. Пусть задано качество 4 моделей $a_1, a_2, a_3, a_4$. Качество полученных моделей показано в файле \n",
    "https://github.com/andriygav/PSAD/blob/master/labs/lab1/data/classifiers.csv \n",
    "\n",
    "Исследователю требуется выбрать наилучшую модель. Для выбора лучшей модели требуется попарно сравнить среднее значение качества всех моделей. Может ли исследователь утверждать что какая-то из моделей лучше другой?\n",
    "\n",
    "**Требуется:**\n",
    "1. Записать задачу формально.\n",
    "2. Предложить статистику для решения данной задачи.\n",
    "3. Записать нулевое распределение данной статистики.\n",
    "4. Записать явно правило принятия решения на основе статистики и нулевого распределения для обеспечения уровня значимости $\\alpha = 0.05$.\n",
    "5. Проверить гипотезу по записанному критерию для данных из условия. Противоречат ли они гипотезе?\n",
    "\n",
    "Все выкладки должны быть сделаны аналитически, без использования компьютера. Допускается использование компютера для подстановки"
   ]
  },
  {
   "cell_type": "code",
   "execution_count": 3,
   "id": "172b1b69",
   "metadata": {},
   "outputs": [],
   "source": [
    "import pandas as pd\n",
    "import numpy as np\n",
    "import scipy.stats as st\n",
    "import seaborn as sns"
   ]
  },
  {
   "cell_type": "code",
   "execution_count": 4,
   "id": "faa372c9",
   "metadata": {},
   "outputs": [
    {
     "data": {
      "text/html": [
       "<div>\n",
       "<style scoped>\n",
       "    .dataframe tbody tr th:only-of-type {\n",
       "        vertical-align: middle;\n",
       "    }\n",
       "\n",
       "    .dataframe tbody tr th {\n",
       "        vertical-align: top;\n",
       "    }\n",
       "\n",
       "    .dataframe thead th {\n",
       "        text-align: right;\n",
       "    }\n",
       "</style>\n",
       "<table border=\"1\" class=\"dataframe\">\n",
       "  <thead>\n",
       "    <tr style=\"text-align: right;\">\n",
       "      <th></th>\n",
       "      <th>a1</th>\n",
       "      <th>a2</th>\n",
       "      <th>a3</th>\n",
       "      <th>a4</th>\n",
       "    </tr>\n",
       "    <tr>\n",
       "      <th>Номер выборки</th>\n",
       "      <th></th>\n",
       "      <th></th>\n",
       "      <th></th>\n",
       "      <th></th>\n",
       "    </tr>\n",
       "  </thead>\n",
       "  <tbody>\n",
       "    <tr>\n",
       "      <th>1</th>\n",
       "      <td>86</td>\n",
       "      <td>50</td>\n",
       "      <td>93</td>\n",
       "      <td>13</td>\n",
       "    </tr>\n",
       "    <tr>\n",
       "      <th>2</th>\n",
       "      <td>85</td>\n",
       "      <td>74</td>\n",
       "      <td>55</td>\n",
       "      <td>35</td>\n",
       "    </tr>\n",
       "    <tr>\n",
       "      <th>3</th>\n",
       "      <td>53</td>\n",
       "      <td>92</td>\n",
       "      <td>58</td>\n",
       "      <td>51</td>\n",
       "    </tr>\n",
       "    <tr>\n",
       "      <th>4</th>\n",
       "      <td>44</td>\n",
       "      <td>41</td>\n",
       "      <td>56</td>\n",
       "      <td>37</td>\n",
       "    </tr>\n",
       "    <tr>\n",
       "      <th>5</th>\n",
       "      <td>2</td>\n",
       "      <td>18</td>\n",
       "      <td>99</td>\n",
       "      <td>26</td>\n",
       "    </tr>\n",
       "    <tr>\n",
       "      <th>6</th>\n",
       "      <td>5</td>\n",
       "      <td>68</td>\n",
       "      <td>35</td>\n",
       "      <td>17</td>\n",
       "    </tr>\n",
       "  </tbody>\n",
       "</table>\n",
       "</div>"
      ],
      "text/plain": [
       "               a1  a2  a3  a4\n",
       "Номер выборки                \n",
       "1              86  50  93  13\n",
       "2              85  74  55  35\n",
       "3              53  92  58  51\n",
       "4              44  41  56  37\n",
       "5               2  18  99  26\n",
       "6               5  68  35  17"
      ]
     },
     "execution_count": 4,
     "metadata": {},
     "output_type": "execute_result"
    }
   ],
   "source": [
    "data = pd.read_csv('https://raw.githubusercontent.com/andriygav/PSAD/master/labs/lab1/data/classifiers.csv', index_col='Номер выборки')\n",
    "data"
   ]
  },
  {
   "cell_type": "markdown",
   "id": "d99219d7",
   "metadata": {},
   "source": [
    "## ANOVA\n",
    "\n",
    "Для начала запустим тест HSD Тьюки и проверим, какие средние совпадают, а какие нет.\n",
    "\n",
    "\n",
    "$$ n = \\frac{K}{\\sum_{k=1}^K(1/n_k)}  $$\n",
    "$$ S^2 = \\frac{1}{N-K}\\sum_{k=1}^K(n_k-1)(S_k)^2 $$\n",
    "\n",
    "Где $S_k^{2} $- это дисперсия выборки $X_k^{n_k}$,\n",
    "$$ HSD = \\frac{q_\\alpha(N-K)S}{\\sqrt S}$$\n",
    "\n",
    "$Где q_\\alpha(N-K)$ - критическое значние распределения стьюдентизированного размаха с (N-K) степенями свободы.\n",
    "\n",
    "Если $|\\overline X_i - \\overline X_j| > HSD$ , то частная нулевая гипотеза $H_0:\\alpha_i = \\alpha_j$ отклоняется против двусторонней альтернативы \n",
    "\n",
    "Между несовпадающими будем запускать односторонний критерий знаковых рангов"
   ]
  },
  {
   "cell_type": "code",
   "execution_count": 9,
   "id": "8cfc7eab",
   "metadata": {},
   "outputs": [
    {
     "data": {
      "image/png": "[encoded data removed]",
      "text/plain": [
       "<Figure size 432x288 with 1 Axes>"
      ]
     },
     "metadata": {
      "needs_background": "light"
     },
     "output_type": "display_data"
    }
   ],
   "source": [
    "_ = sns.boxplot(data=data)"
   ]
  },
  {
   "cell_type": "code",
   "execution_count": 6,
   "id": "655545c1",
   "metadata": {},
   "outputs": [
    {
     "name": "stdout",
     "output_type": "stream",
     "text": [
      "Tukey's HSD Pairwise Group Comparisons (95.0% Confidence Interval)\n",
      "Comparison  Statistic  p-value  Lower CI  Upper CI\n",
      " (0 - 1)    -11.333     0.882   -54.550    31.884\n",
      " (0 - 2)    -20.167     0.570   -63.384    23.050\n",
      " (0 - 3)     16.000     0.731   -27.217    59.217\n",
      " (1 - 0)     11.333     0.882   -31.884    54.550\n",
      " (1 - 2)     -8.833     0.939   -52.050    34.384\n",
      " (1 - 3)     27.333     0.316   -15.884    70.550\n",
      " (2 - 0)     20.167     0.570   -23.050    63.384\n",
      " (2 - 1)      8.833     0.939   -34.384    52.050\n",
      " (2 - 3)     36.167     0.122    -7.050    79.384\n",
      " (3 - 0)    -16.000     0.731   -59.217    27.217\n",
      " (3 - 1)    -27.333     0.316   -70.550    15.884\n",
      " (3 - 2)    -36.167     0.122   -79.384     7.050\n",
      "\n"
     ]
    }
   ],
   "source": [
    "result_hsd = st.tukey_hsd(*np.array(data).T)\n",
    "print(result_hsd)"
   ]
  },
  {
   "cell_type": "markdown",
   "id": "1184313a",
   "metadata": {},
   "source": [
    "Статистика для теста Тьюки - это разница средних. Как можно видеть из результатов, статистики для пар (2 - x) наибольшие и всегда больше нуля, также они имеют наиболее сдвинутый в положительную часть доверительный интервал, из чего заключаем, что модель $2$ имеет наибольшее среднее"
   ]
  },
  {
   "cell_type": "markdown",
   "id": "75a8dcc2",
   "metadata": {},
   "source": [
    "## Двухвыборочный критерий знаков\n",
    "\n",
    "Также можем попарно прогнать двухвыборочный критерий знаков. Постановка задачи будет как в критерии знаков для проверки гипотезы о равенстве двух медиан.\n",
    "\n",
    "выборки: $X_1^{n} = (X_{11}, \\dots, X_{1n}), X_2^{n} = (X_{21}, \\dots, X_{2n})  , X_{1i} \\neq X_{2i}$\n",
    "\n",
    "Выборки связанные\n",
    "\n",
    "Нулевая гипотеза : $H_0 : P(X_1>X_2) = 1/2$\n",
    "\n",
    "Альтернативная гипотеза : $H_1 : P(X_1>X_2) <\\neq> 1/2$\n",
    "\n",
    "Статистика : $T(X_1^{n},X_2^{n}) = \\sum_{i=1}^n[X_{1i} > X_{2i}]$\n",
    "\n",
    "Нулевое распределение : $Bin(n,1/2)$"
   ]
  },
  {
   "cell_type": "markdown",
   "id": "98a0a926",
   "metadata": {},
   "source": [
    "Зафиксируем уровень значимости 0.05 и если по результатам теста альтернатива будет отклонена, смотрим на статистику. Статистика больше нуля - значит, $med \\ X_1 > med \\ X_2$, иначе - меньше. Так мы сможем отсортировать модели по медиане и определить наилучшую на данном уровне значимости."
   ]
  },
  {
   "cell_type": "code",
   "execution_count": 5,
   "id": "74ddfe9c",
   "metadata": {},
   "outputs": [
    {
     "name": "stdout",
     "output_type": "stream",
     "text": [
      "a3 a4 3.0 0.03125\n",
      "a4 a3 -3.0 0.03125\n"
     ]
    }
   ],
   "source": [
    "import itertools\n",
    "from statsmodels.stats.descriptivestats import sign_test\n",
    "\n",
    "arr = ['a1', 'a2', 'a3', 'a4']\n",
    "\n",
    "for c1, c2 in itertools.product(arr, arr):\n",
    "    if c1 != c2:\n",
    "        stat, p = sign_test(data[c1] - data[c2])\n",
    "        if p < 0.05:\n",
    "            print(c1, c2, stat, p)"
   ]
  },
  {
   "cell_type": "markdown",
   "id": "0e8dae54",
   "metadata": {},
   "source": [
    "ВЫВОД : В данном случае можем сказать только то, что модель $3$ работает лучше, чем модель $4$ на уровне значимости 0.05. Про другие модели на данном уровне значимости не можем делать выводы."
   ]
  },
  {
   "cell_type": "code",
   "execution_count": null,
   "id": "82dd2e2e",
   "metadata": {},
   "outputs": [],
   "source": []
  }
 ],
 "metadata": {
  "kernelspec": {
   "display_name": "Python 3",
   "language": "python",
   "name": "python3"
  },
  "language_info": {
   "codemirror_mode": {
    "name": "ipython",
    "version": 3
   },
   "file_extension": ".py",
   "mimetype": "text/x-python",
   "name": "python",
   "nbconvert_exporter": "python",
   "pygments_lexer": "ipython3",
   "version": "3.9.5"
  }
 },
 "nbformat": 4,
 "nbformat_minor": 5
}
