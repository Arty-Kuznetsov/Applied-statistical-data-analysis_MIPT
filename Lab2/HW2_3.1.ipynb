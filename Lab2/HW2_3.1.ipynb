{
 "cells": [
  {
   "cell_type": "markdown",
   "id": "7940e827-3c15-4247-b175-4a1be55c6318",
   "metadata": {},
   "source": [
    "## Задача 3.1\n",
    "Выборка : https://github.com/natasha/nerus набор предложений на русском языке с указанием частей речи для каждого слова.\n",
    "\n",
    "Требуется:\n",
    "1. Рассмотреть последовательность частей речи как марковскую модель. Определить оптимальный порядок марковской модели.\n",
    "2. Обучить скрытую марковскую модель по выборке. Оценить точность предсказания частей речи, посчитать энтропию на выборке.\n",
    "\n",
    "*Важно:* в целях ускорения эксперимента рекомендуется взять первые 10 МБ текста из выборки."
   ]
  },
  {
   "cell_type": "code",
   "execution_count": 4,
   "id": "e2d77987-a824-45c5-81a0-2ea6c1a8e07a",
   "metadata": {},
   "outputs": [],
   "source": [
    "import re\n",
    "\n",
    "import urllib\n",
    "import numpy as np\n",
    "\n",
    "import nltk\n",
    "from nltk.tag import hmm\n",
    "import pandas as pd\n",
    "\n",
    "from collections import Counter\n",
    "\n",
    "import nltk.lm as lm\n",
    "from nltk.util import ngrams as nltk_ngrams\n",
    "import numpy as np\n",
    "import scipy.stats as st\n",
    "\n",
    "from nltk.tokenize import RegexpTokenizer\n",
    "\n",
    "from nerus import load_nerus\n",
    "import sys\n",
    "from typing import List, Tuple"
   ]
  },
  {
   "cell_type": "code",
   "execution_count": 5,
   "id": "76a33946-f3e1-4e45-854a-3497e08d833e",
   "metadata": {},
   "outputs": [],
   "source": [
    "# !wget https://storage.yandexcloud.net/natasha-nerus/data/nerus_lenta.conllu.gz -O nerus_lenta.conllu.gz -q"
   ]
  },
  {
   "cell_type": "markdown",
   "id": "43ff843f-a595-45f0-8389-db027557e115",
   "metadata": {},
   "source": [
    "### Загрузка данных"
   ]
  },
  {
   "cell_type": "code",
   "execution_count": 6,
   "id": "bec92e40-ba1a-415f-937a-13d0ef425c47",
   "metadata": {},
   "outputs": [],
   "source": [
    "docs = load_nerus('nerus_lenta.conllu.gz')"
   ]
  },
  {
   "cell_type": "code",
   "execution_count": 7,
   "id": "ab744f14-8024-4a46-af1a-5fd2a2237106",
   "metadata": {},
   "outputs": [],
   "source": [
    "# list of pairs: (token, tag)\n",
    "dataset: List[Tuple[str, str]] = []\n",
    "size = 0\n",
    "for i, doc in enumerate(docs):\n",
    "    for sent in doc.sents:\n",
    "        tokens = sent.morph.tokens\n",
    "        texts = [t.text.lower() for t in tokens]\n",
    "        tags = [t.pos for t in tokens]\n",
    "        size += sys.getsizeof(texts) + sys.getsizeof(tags)\n",
    "        dataset.extend([(text, tag) for text, tag in zip(texts, tags)])\n",
    "    if size > 10 * (1024) ** 2:\n",
    "        break"
   ]
  },
  {
   "cell_type": "code",
   "execution_count": 8,
   "id": "1e1090fa-0c94-4a39-8d0e-29f8833e8545",
   "metadata": {},
   "outputs": [
    {
     "data": {
      "text/plain": [
       "[('вице-премьер', 'NOUN'),\n",
       " ('по', 'ADP'),\n",
       " ('социальным', 'ADJ'),\n",
       " ('вопросам', 'NOUN'),\n",
       " ('татьяна', 'PROPN'),\n",
       " ('голикова', 'PROPN'),\n",
       " ('рассказала', 'VERB'),\n",
       " (',', 'PUNCT'),\n",
       " ('в', 'ADP'),\n",
       " ('каких', 'DET')]"
      ]
     },
     "execution_count": 8,
     "metadata": {},
     "output_type": "execute_result"
    }
   ],
   "source": [
    "dataset[:10]"
   ]
  },
  {
   "cell_type": "code",
   "execution_count": 9,
   "id": "609ce968-2990-4995-adac-fd3dba2206d9",
   "metadata": {},
   "outputs": [],
   "source": [
    "# vocabulary of russian words\n",
    "vocab_russian = set([el[0] for el in dataset])\n",
    "vocab_tags = set([el[1] for el in dataset])"
   ]
  },
  {
   "cell_type": "markdown",
   "id": "b4762383-71a9-4595-a9ba-e4d0d054a925",
   "metadata": {},
   "source": [
    "### Определение оптимального порядка скрытой марковской модели\n",
    "\n",
    "Рассмотрим последовательность тэгов. Проверим гипотезу о том, что марковскую цепь второго порядка можно свернуть в цепь первого порядка. Воспользуемся критерием с лекции и соответствующим кодом с семинара.\n"
   ]
  },
  {
   "cell_type": "code",
   "execution_count": 10,
   "id": "ab3137eb-e72d-439a-beb4-114c54e848b8",
   "metadata": {},
   "outputs": [],
   "source": [
    "tags = [el[1] for el in dataset]"
   ]
  },
  {
   "cell_type": "code",
   "execution_count": 12,
   "id": "53df4afd-145a-421d-8b4b-bd53d8d0712a",
   "metadata": {},
   "outputs": [
    {
     "data": {
      "text/plain": [
       "['NOUN', 'ADP', 'ADJ', 'NOUN', 'PROPN', 'PROPN', 'VERB', 'PUNCT', 'ADP', 'DET']"
      ]
     },
     "execution_count": 12,
     "metadata": {},
     "output_type": "execute_result"
    }
   ],
   "source": [
    "tags[:10]"
   ]
  },
  {
   "cell_type": "code",
   "execution_count": 13,
   "id": "db977b7f-77b1-4c0e-862c-47da0e0df98d",
   "metadata": {},
   "outputs": [],
   "source": [
    "# seminar\n",
    "def ngrams_and_prefix_counts(tokens, n_max):\n",
    "    # словарь n-грамм и их частот\n",
    "    ngrams_counts = {}\n",
    "    # словарь n-граммных префиксов и их частот\n",
    "    prefix_counts = {}\n",
    "    \n",
    "    n = len(tokens)\n",
    "    for i in range(n_max):\n",
    "        ngrams_counts[i + 1] = Counter([tuple(tokens[j : j + i + 1]) for j in range(n - i)])\n",
    "        prefix_counts[i + 1] = Counter([tuple(tokens[j : j + i] + ['*']) for j in range(n - i)])\n",
    "\n",
    "    return ngrams_counts, prefix_counts\n",
    "\n",
    "\n",
    "def unigram_probas(ngram_counts):\n",
    "    p1 = {}\n",
    "    n = sum(ngram_counts[1].values())\n",
    "    for w in ngram_counts[1]:\n",
    "        p1[w] = ngram_counts[1][w] / n\n",
    "    return p1\n",
    "\n",
    "\n",
    "def bigram_probas(ngram_counts, prefix_counts):\n",
    "    p2 = {}\n",
    "    for w in ngram_counts[2]:\n",
    "        pre_w = tuple([w[0]] + ['*'])\n",
    "        p2[u'{1}|{0}'.format(*w)] = ngram_counts[2][w] / prefix_counts[2][pre_w]\n",
    "    return p2\n",
    "\n",
    "\n",
    "def trigram_probas(ngram_counts, prefix_counts):\n",
    "    p3 = {}\n",
    "    for w in ngram_counts[3]:\n",
    "        pre_w = w[:2] + tuple(['*'])\n",
    "        p3[u'{2}|{1},{0}'.format(*w)] = ngram_counts[3][w] / prefix_counts[3][pre_w]\n",
    "    return p3\n"
   ]
  },
  {
   "cell_type": "code",
   "execution_count": 14,
   "id": "348ef775-28d9-4840-915a-5abba2c57bde",
   "metadata": {},
   "outputs": [],
   "source": [
    "ngram_counts, prefix_counts = ngrams_and_prefix_counts(tags, 3)"
   ]
  },
  {
   "cell_type": "code",
   "execution_count": 15,
   "id": "11517100-84f0-4f15-80a9-e112891a7622",
   "metadata": {},
   "outputs": [],
   "source": [
    "p1 = unigram_probas(ngram_counts)\n",
    "p2 = bigram_probas(ngram_counts, prefix_counts)\n",
    "p3 =  trigram_probas(ngram_counts, prefix_counts)"
   ]
  },
  {
   "cell_type": "code",
   "execution_count": 16,
   "id": "43e45393-3d8b-4002-b75c-0f0403689d6d",
   "metadata": {},
   "outputs": [],
   "source": [
    "def chi2_statistic(p2, p3, tokens):\n",
    "    stat2 = []\n",
    "    stat3 = []\n",
    "    n = len(tokens)\n",
    "    for i in range(n - 2):\n",
    "        w = tokens[i : i + 3]\n",
    "        ngram3 = '{2}|{1},{0}'.format(*w)\n",
    "        ngram2 = '{1}|{0}'.format(*w)\n",
    "\n",
    "        stat2.append(np.log(p2[ngram2]))\n",
    "        stat3.append(np.log(p3[ngram3]))\n",
    "    return - 2 * np.sum(stat2) + 2 * np.sum(stat3)"
   ]
  },
  {
   "cell_type": "code",
   "execution_count": 17,
   "id": "667bd16a-f370-4b47-b289-d0d8469e122b",
   "metadata": {},
   "outputs": [],
   "source": [
    "m = len(p3)\n",
    "stat = chi2_statistic(p2, p3, tags)"
   ]
  },
  {
   "cell_type": "code",
   "execution_count": 18,
   "id": "b6dd45ca-f312-41a6-9bab-b88e797ce697",
   "metadata": {},
   "outputs": [
    {
     "name": "stdout",
     "output_type": "stream",
     "text": [
      "p-value = 1.0\n"
     ]
    }
   ],
   "source": [
    "print(f'p-value = {1 - st.distributions.chi2(m * ((m - 1) ** 2) - 1).cdf(stat)}')"
   ]
  },
  {
   "cell_type": "markdown",
   "id": "f8749d67-e2a2-429e-b3e3-c269a2b0be2a",
   "metadata": {},
   "source": [
    "$\\mathrm{p\\_value} > 0.05$. Значит, данные гипотезе не противоречат. Оптимальная цепь имеет порядок 1."
   ]
  },
  {
   "cell_type": "markdown",
   "id": "63df0767-766b-4060-b4f1-44752284ecf5",
   "metadata": {},
   "source": [
    "### Обучение HMM оптимального порядка"
   ]
  },
  {
   "cell_type": "code",
   "execution_count": 24,
   "id": "4006f0fe-f957-4d01-b939-f0f19055fd65",
   "metadata": {},
   "outputs": [],
   "source": [
    "np.random.seed(0)\n",
    "trainer = hmm.HiddenMarkovModelTrainer(states=vocab_tags, symbols=vocab_russian)"
   ]
  },
  {
   "cell_type": "code",
   "execution_count": 25,
   "id": "b9e49ab8-285a-4df2-b797-c9c3d694f0ed",
   "metadata": {},
   "outputs": [],
   "source": [
    "# train/val split\n",
    "val_samples = int(0.1 * len(dataset))\n",
    "train_dataset = dataset[:-val_samples]\n",
    "val_dataset = dataset[-val_samples:]"
   ]
  },
  {
   "cell_type": "code",
   "execution_count": 26,
   "id": "03ea4aa2-61b0-43d0-a232-1845f7da7c8c",
   "metadata": {},
   "outputs": [
    {
     "name": "stdout",
     "output_type": "stream",
     "text": [
      "CPU times: user 638 ms, sys: 8.62 ms, total: 646 ms\n",
      "Wall time: 658 ms\n"
     ]
    }
   ],
   "source": [
    "%%time\n",
    "tagger = trainer.train_supervised([train_dataset])"
   ]
  },
  {
   "cell_type": "markdown",
   "id": "02fa95c4-d1c6-4ff3-b0bd-937eafb1c5d4",
   "metadata": {},
   "source": [
    "### Точность и энтропия на данных из обучающей выборки\n",
    "\n",
    "* Accuracy: 98.20\n",
    "* Entropy: 22.5"
   ]
  },
  {
   "cell_type": "code",
   "execution_count": 27,
   "id": "aa087b65-fbfd-4470-a963-955ef78204b4",
   "metadata": {},
   "outputs": [
    {
     "name": "stdout",
     "output_type": "stream",
     "text": [
      "Test: вице-премьер/NOUN по/ADP социальным/ADJ вопросам/NOUN татьяна/PROPN голикова/PROPN рассказала/VERB ,/PUNCT в/ADP каких/DET регионах/NOUN россии/PROPN зафиксирована/VERB наиболее/ADV высокая/ADJ смертность/NOUN от/ADP рака/NOUN ,/PUNCT сообщает/VERB риа/PROPN новости/PROPN ./PUNCT по/ADP словам/NOUN голиковой/PROPN ,/PUNCT чаще/ADV всего/PRON онкологические/ADJ заболевания/NOUN становились/VERB причиной/NOUN смерти/NOUN в/ADP псковской/ADJ ,/PUNCT тверской/ADJ ,/PUNCT тульской/ADJ и/CCONJ орловской/ADJ областях/NOUN ,/PUNCT а/CCONJ также/ADV в/ADP севастополе/PROPN ./PUNCT вице-премьер/NOUN напомнила/VERB ,/PUNCT что/SCONJ главные/ADJ факторы/NOUN смертности/NOUN в/ADP россии/PROPN —/PUNCT рак/NOUN и/CCONJ болезни/NOUN системы/NOUN кровообращения/NOUN ./PUNCT в/ADP начале/NOUN года/NOUN стало/VERB известно/ADJ ,/PUNCT что/SCONJ смертность/NOUN от/ADP онкологических/ADJ заболеваний/NOUN среди/ADP россиян/NOUN снизилась/VERB впервые/ADV за/ADP три/NUM года/NOUN ./PUNCT по/ADP данным/NOUN росстата/PROPN ,/PUNCT в/ADP 2017/ADJ году/NOUN от/ADP рака/NOUN умерли/VERB 289/NUM тысяч/NOUN человек/NOUN ./PUNCT это/PRON на/ADP 3,5/NUM процента/NOUN меньше/NUM ,/PUNCT чем/SCONJ годом/NOUN ранее/ADV ./PUNCT австрийские/ADJ правоохранительные/ADJ органы/NOUN не/PART представили/VERB доказательств/NOUN нарушения/NOUN российскими/ADJ биатлонистами/NOUN антидопинговых/ADJ правил/NOUN ./PUNCT об/ADP этом/PRON сообщил/VERB посол/NOUN россии/PROPN в/ADP вене/PROPN дмитрий/PROPN любинский/PROPN по/ADP итогам/NOUN встречи/NOUN уполномоченного/VERB адвоката/NOUN дипмиссии/NOUN с/ADP представителями/NOUN прокуратуры/NOUN страны/NOUN ,/PUNCT передает/VERB тасс/PROPN ./PUNCT «/PUNCT действует/VERB презумпция/NOUN невиновности/NOUN ./PUNCT каких-либо/DET ограничений/NOUN свободы/NOUN передвижения/NOUN для/ADP команды/NOUN нет/VERB »/PUNCT ,/PUNCT —/PUNCT добавили/VERB в/ADP посольстве/NOUN ./PUNCT международный/ADJ союз/NOUN биатлонистов/NOUN (/PUNCT ibu/PROPN )/PUNCT также/ADV не/PART будет/AUX применять/VERB санкции/NOUN к/ADP российским/ADJ биатлонистам/NOUN ./PUNCT все/DET они/PRON продолжат/VERB выступление/NOUN на/ADP кубке/PROPN мира/NOUN ./PUNCT полиция/NOUN нагрянула/VERB в/ADP отель/NOUN сборной/NOUN россии/PROPN в/ADP хохфильцене/PROPN вечером/NOUN 12/ADJ декабря/NOUN ./PUNCT как/SCONJ написал/VERB биатлонист/NOUN александр/PROPN логинов/PROPN ,/PUNCT их/PRON считают/VERB виновными/ADJ в/ADP махинациях/NOUN с/ADP переливанием/NOUN крови/NOUN ./PUNCT биатлонисту/NOUN антону/PROPN шипулину/PROPN ,/PUNCT также/ADV попавшему/VERB в/ADP список/NOUN ,/PUNCT полиция/NOUN нанесла/VERB отдельный/ADJ визит/NOUN :/PUNCT сейчас/ADV он/PRON тренируется/VERB отдельно/ADV в/ADP австрийском/ADJ обертиллахе/PROPN ./PUNCT обвинения/NOUN спортсмен/NOUN назвал/VERB бредом/NOUN ,/PUNCT а/CCONJ также/ADV указал/VERB на/ADP «/PUNCT охоту/NOUN на/ADP ведьм/NOUN »/PUNCT в/ADP мировом/ADJ биатлоне/NOUN ./PUNCT в/ADP австрии/PROPN прием/NOUN допинга/NOUN —/PUNCT уголовное/ADJ преступление/NOUN ./PUNCT максимальное/ADJ наказание/NOUN за/ADP его/PRON употребление/NOUN —/PUNCT три/NUM года/NOUN тюрьмы/NOUN ./PUNCT сотрудники/NOUN социальной/ADJ сети/NOUN instagram/PROPN проанализировали/VERB поставленные/VERB пользователями/NOUN смайлики/NOUN ,/PUNCT геолокации/NOUN и/CCONJ хештеги/NOUN и/CCONJ опубликовали/VERB итоги/NOUN 2018/ADJ года/NOUN ./PUNCT об/ADP этом/PRON сообщается/VERB на/ADP официальном/ADJ сайте/NOUN instagram/PROPN ./PUNCT таким/DET образом/NOUN ,/PUNCT самой/ADJ счастливой/ADJ геолокацией/NOUN instagram/NOUN признал/VERB диснейленд/PROPN в/ADP токио/PROPN ,/PUNCT так/ADV как/SCONJ больше/NUM всего/PRON счастливых/ADJ смайликов/NOUN в/ADP 2018/ADJ году/NOUN пользователи/NOUN ставили/VERB именно/PART под/ADP фотографиями/NOUN из/ADP японского/ADJ диснейленда/PROPN ./PUNCT также/ADV эксперты/NOUN назвали/VERB самый/ADJ популярный/ADJ фильтр/NOUN для/ADP лица/NOUN :/PUNCT им/PRON стал/VERB фильтр/NOUN с/ADP сердечками/NOUN на/ADP глазах/NOUN ./PUNCT а/CCONJ ,/PUNCT например/ADV ,/PUNCT самыми/ADJ часто/ADV используемыми/VERB хештегами/NOUN в/ADP 2018/ADJ году/NOUN были/AUX #/X metoo/X ,/PUNCT #/X timesup/X и/CCONJ #/NOUN marchforourlives/X ./PUNCT в/ADP ноябре/NOUN сотрудники/NOUN британской/ADJ ассоциации/NOUN потребителей/NOUN which/X ?/PUNCT составили/VERB рейтинг/NOUN самых/ADJ безопасных/ADJ стран/NOUN для/ADP путешествий/NOUN ./PUNCT специалисты/NOUN проанализировали/VERB 20/NUM самых/ADJ популярных/ADJ туристических/ADJ направлений/NOUN по/ADP четырем/NUM критериям/NOUN :/PUNCT уровень/NOUN преступности/NOUN ,/PUNCT угроза/NOUN здоровью/NOUN ,/PUNCT вероятность/NOUN теракта/NOUN и/CCONJ стихийных/ADJ бедствий/NOUN ./PUNCT самой/ADJ безопасной/ADJ страной/NOUN по/ADP всем/DET параметрам/NOUN стала/VERB исландия/PROPN ./PUNCT с/ADP начала/NOUN расследования/NOUN российского/ADJ вмешательства/NOUN в/ADP выборы/NOUN власти/NOUN сша/PROPN потратили/VERB более/ADV 25/NUM миллионов/NOUN долларов/NOUN ./PUNCT об/ADP этом/PRON сообщает/VERB associated/X press/X со/ADP ссылкой/NOUN на/ADP отчет/NOUN министерства/PROPN юстиции/NOUN сша/PROPN ./PUNCT в/ADP документе/NOUN содержатся/VERB данные/NOUN о/ADP расходах/NOUN на/ADP следствие/NOUN с/ADP апреля/NOUN по/ADP сентябрь/NOUN 2018/ADJ года/NOUN ./PUNCT за/ADP эти/DET полгода/NOUN было/AUX потрачено/VERB 4,6/NUM миллиона/NOUN долларов/NOUN ,/PUNCT из/ADP которых/PRON почти/ADV 3/NUM миллиона/NOUN долларов/NOUN ушли/VERB на/ADP зарплату/NOUN сотрудников/NOUN ,/PUNCT 580/NUM тысяч/NOUN —/PUNCT на/ADP поездки/NOUN и/CCONJ сопутствующие/VERB расходы/NOUN ./PUNCT ранее/ADV минюст/PROPN сша/PROPN уже/ADV публиковал/VERB отчеты/NOUN о/ADP затратах/NOUN на/ADP дело/NOUN о/ADP российском/ADJ вмешательстве/NOUN за/ADP предыдущие/ADJ месяцы/NOUN\n",
      "\n",
      "Untagged: вице-премьер по социальным вопросам татьяна голикова рассказала , в каких регионах россии зафиксирована наиболее высокая смертность от рака , сообщает риа новости . по словам голиковой , чаще всего онкологические заболевания становились причиной смерти в псковской , тверской , тульской и орловской областях , а также в севастополе . вице-премьер напомнила , что главные факторы смертности в россии — рак и болезни системы кровообращения . в начале года стало известно , что смертность от онкологических заболеваний среди россиян снизилась впервые за три года . по данным росстата , в 2017 году от рака умерли 289 тысяч человек . это на 3,5 процента меньше , чем годом ранее . австрийские правоохранительные органы не представили доказательств нарушения российскими биатлонистами антидопинговых правил . об этом сообщил посол россии в вене дмитрий любинский по итогам встречи уполномоченного адвоката дипмиссии с представителями прокуратуры страны , передает тасс . « действует презумпция невиновности . каких-либо ограничений свободы передвижения для команды нет » , — добавили в посольстве . международный союз биатлонистов ( ibu ) также не будет применять санкции к российским биатлонистам . все они продолжат выступление на кубке мира . полиция нагрянула в отель сборной россии в хохфильцене вечером 12 декабря . как написал биатлонист александр логинов , их считают виновными в махинациях с переливанием крови . биатлонисту антону шипулину , также попавшему в список , полиция нанесла отдельный визит : сейчас он тренируется отдельно в австрийском обертиллахе . обвинения спортсмен назвал бредом , а также указал на « охоту на ведьм » в мировом биатлоне . в австрии прием допинга — уголовное преступление . максимальное наказание за его употребление — три года тюрьмы . сотрудники социальной сети instagram проанализировали поставленные пользователями смайлики , геолокации и хештеги и опубликовали итоги 2018 года . об этом сообщается на официальном сайте instagram . таким образом , самой счастливой геолокацией instagram признал диснейленд в токио , так как больше всего счастливых смайликов в 2018 году пользователи ставили именно под фотографиями из японского диснейленда . также эксперты назвали самый популярный фильтр для лица : им стал фильтр с сердечками на глазах . а , например , самыми часто используемыми хештегами в 2018 году были # metoo , # timesup и # marchforourlives . в ноябре сотрудники британской ассоциации потребителей which ? составили рейтинг самых безопасных стран для путешествий . специалисты проанализировали 20 самых популярных туристических направлений по четырем критериям : уровень преступности , угроза здоровью , вероятность теракта и стихийных бедствий . самой безопасной страной по всем параметрам стала исландия . с начала расследования российского вмешательства в выборы власти сша потратили более 25 миллионов долларов . об этом сообщает associated press со ссылкой на отчет министерства юстиции сша . в документе содержатся данные о расходах на следствие с апреля по сентябрь 2018 года . за эти полгода было потрачено 4,6 миллиона долларов , из которых почти 3 миллиона долларов ушли на зарплату сотрудников , 580 тысяч — на поездки и сопутствующие расходы . ранее минюст сша уже публиковал отчеты о затратах на дело о российском вмешательстве за предыдущие месяцы\n",
      "\n",
      "HMM-tagged: вице-премьер/NOUN по/ADP социальным/ADJ вопросам/NOUN татьяна/PROPN голикова/PROPN рассказала/VERB ,/PUNCT в/ADP каких/DET регионах/NOUN россии/PROPN зафиксирована/VERB наиболее/ADV высокая/ADJ смертность/NOUN от/ADP рака/NOUN ,/PUNCT сообщает/VERB риа/PROPN новости/PROPN ./PUNCT по/ADP словам/NOUN голиковой/PROPN ,/PUNCT чаще/ADV всего/PART онкологические/ADJ заболевания/NOUN становились/VERB причиной/NOUN смерти/NOUN в/ADP псковской/ADJ ,/PUNCT тверской/ADJ ,/PUNCT тульской/ADJ и/CCONJ орловской/ADJ областях/NOUN ,/PUNCT а/CCONJ также/ADV в/ADP севастополе/PROPN ./PUNCT вице-премьер/NOUN напомнила/VERB ,/PUNCT что/SCONJ главные/ADJ факторы/NOUN смертности/NOUN в/ADP россии/PROPN —/PUNCT рак/NOUN и/CCONJ болезни/NOUN системы/NOUN кровообращения/NOUN ./PUNCT в/ADP начале/NOUN года/NOUN стало/VERB известно/ADJ ,/PUNCT что/SCONJ смертность/NOUN от/ADP онкологических/ADJ заболеваний/NOUN среди/ADP россиян/NOUN снизилась/VERB впервые/ADV за/ADP три/NUM года/NOUN ./PUNCT по/ADP данным/NOUN росстата/PROPN ,/PUNCT в/ADP 2017/ADJ году/NOUN от/ADP рака/NOUN умерли/VERB 289/NUM тысяч/NOUN человек/NOUN ./PUNCT это/PRON на/ADP 3,5/NUM процента/NOUN меньше/NUM ,/PUNCT чем/SCONJ годом/NOUN ранее/ADV ./PUNCT австрийские/ADJ правоохранительные/ADJ органы/NOUN не/PART представили/VERB доказательств/NOUN нарушения/NOUN российскими/ADJ биатлонистами/NOUN антидопинговых/ADJ правил/NOUN ./PUNCT об/ADP этом/PRON сообщил/VERB посол/NOUN россии/PROPN в/ADP вене/PROPN дмитрий/PROPN любинский/PROPN по/ADP итогам/NOUN встречи/NOUN уполномоченного/NOUN адвоката/NOUN дипмиссии/NOUN с/ADP представителями/NOUN прокуратуры/NOUN страны/NOUN ,/PUNCT передает/VERB тасс/PROPN ./PUNCT «/PUNCT действует/VERB презумпция/NOUN невиновности/NOUN ./PUNCT каких-либо/DET ограничений/NOUN свободы/NOUN передвижения/NOUN для/ADP команды/NOUN нет/VERB »/PUNCT ,/PUNCT —/PUNCT добавили/VERB в/ADP посольстве/NOUN ./PUNCT международный/ADJ союз/NOUN биатлонистов/NOUN (/PUNCT ibu/PROPN )/PUNCT также/ADV не/PART будет/AUX применять/VERB санкции/NOUN к/ADP российским/ADJ биатлонистам/NOUN ./PUNCT все/PRON они/PRON продолжат/VERB выступление/NOUN на/ADP кубке/PROPN мира/NOUN ./PUNCT полиция/NOUN нагрянула/VERB в/ADP отель/NOUN сборной/NOUN россии/PROPN в/ADP хохфильцене/PROPN вечером/NOUN 12/ADJ декабря/NOUN ./PUNCT как/SCONJ написал/VERB биатлонист/NOUN александр/PROPN логинов/PROPN ,/PUNCT их/PRON считают/VERB виновными/ADJ в/ADP махинациях/NOUN с/ADP переливанием/NOUN крови/NOUN ./PUNCT биатлонисту/NOUN антону/PROPN шипулину/PROPN ,/PUNCT также/ADV попавшему/VERB в/ADP список/NOUN ,/PUNCT полиция/NOUN нанесла/VERB отдельный/ADJ визит/NOUN :/PUNCT сейчас/ADV он/PRON тренируется/VERB отдельно/ADV в/ADP австрийском/ADJ обертиллахе/PROPN ./PUNCT обвинения/NOUN спортсмен/NOUN назвал/VERB бредом/NOUN ,/PUNCT а/CCONJ также/ADV указал/VERB на/ADP «/PUNCT охоту/NOUN на/ADP ведьм/NOUN »/PUNCT в/ADP мировом/ADJ биатлоне/NOUN ./PUNCT в/ADP австрии/PROPN прием/NOUN допинга/NOUN —/PUNCT уголовное/ADJ преступление/NOUN ./PUNCT максимальное/ADJ наказание/NOUN за/ADP его/DET употребление/NOUN —/PUNCT три/NUM года/NOUN тюрьмы/NOUN ./PUNCT сотрудники/NOUN социальной/ADJ сети/NOUN instagram/PROPN проанализировали/VERB поставленные/VERB пользователями/NOUN смайлики/NOUN ,/PUNCT геолокации/NOUN и/CCONJ хештеги/NOUN и/CCONJ опубликовали/VERB итоги/NOUN 2018/ADJ года/NOUN ./PUNCT об/ADP этом/PRON сообщается/VERB на/ADP официальном/ADJ сайте/NOUN instagram/PROPN ./PUNCT таким/DET образом/NOUN ,/PUNCT самой/ADJ счастливой/ADJ геолокацией/NOUN instagram/PROPN признал/VERB диснейленд/PROPN в/ADP токио/PROPN ,/PUNCT так/ADV как/SCONJ больше/ADV всего/PART счастливых/ADJ смайликов/NOUN в/ADP 2018/ADJ году/NOUN пользователи/NOUN ставили/VERB именно/PART под/ADP фотографиями/NOUN из/ADP японского/ADJ диснейленда/PROPN ./PUNCT также/ADV эксперты/NOUN назвали/VERB самый/ADJ популярный/ADJ фильтр/NOUN для/ADP лица/NOUN :/PUNCT им/PRON стал/VERB фильтр/NOUN с/ADP сердечками/NOUN на/ADP глазах/NOUN ./PUNCT а/CCONJ ,/PUNCT например/ADV ,/PUNCT самыми/ADJ часто/ADV используемыми/VERB хештегами/NOUN в/ADP 2018/ADJ году/NOUN были/AUX #/X metoo/X ,/PUNCT #/X timesup/X и/CCONJ #/X marchforourlives/X ./PUNCT в/ADP ноябре/NOUN сотрудники/NOUN британской/ADJ ассоциации/NOUN потребителей/NOUN which/X ?/PUNCT составили/VERB рейтинг/NOUN самых/ADJ безопасных/ADJ стран/NOUN для/ADP путешествий/NOUN ./PUNCT специалисты/NOUN проанализировали/VERB 20/NUM самых/ADJ популярных/ADJ туристических/ADJ направлений/NOUN по/ADP четырем/NUM критериям/NOUN :/PUNCT уровень/NOUN преступности/NOUN ,/PUNCT угроза/NOUN здоровью/NOUN ,/PUNCT вероятность/NOUN теракта/NOUN и/CCONJ стихийных/ADJ бедствий/NOUN ./PUNCT самой/ADJ безопасной/ADJ страной/NOUN по/ADP всем/DET параметрам/NOUN стала/VERB исландия/PROPN ./PUNCT с/ADP начала/NOUN расследования/NOUN российского/ADJ вмешательства/NOUN в/ADP выборы/NOUN власти/NOUN сша/PROPN потратили/VERB более/ADV 25/NUM миллионов/NOUN долларов/NOUN ./PUNCT об/ADP этом/PRON сообщает/VERB associated/X press/X со/ADP ссылкой/NOUN на/ADP отчет/NOUN министерства/NOUN юстиции/NOUN сша/PROPN ./PUNCT в/ADP документе/NOUN содержатся/VERB данные/NOUN о/ADP расходах/NOUN на/ADP следствие/NOUN с/ADP апреля/NOUN по/ADP сентябрь/NOUN 2018/ADJ года/NOUN ./PUNCT за/ADP эти/DET полгода/NOUN было/AUX потрачено/VERB 4,6/NUM миллиона/NOUN долларов/NOUN ,/PUNCT из/ADP которых/PRON почти/ADV 3/NUM миллиона/NOUN долларов/NOUN ушли/VERB на/ADP зарплату/NOUN сотрудников/NOUN ,/PUNCT 580/NUM тысяч/NOUN —/PUNCT на/ADP поездки/NOUN и/CCONJ сопутствующие/VERB расходы/NOUN ./PUNCT ранее/ADV минюст/PROPN сша/PROPN уже/ADV публиковал/VERB отчеты/NOUN о/ADP затратах/NOUN на/ADP дело/NOUN о/ADP российском/ADJ вмешательстве/NOUN за/ADP предыдущие/ADJ месяцы/NOUN\n",
      "\n",
      "Entropy: 22.53779230617709\n",
      "\n",
      "------------------------------------------------------------\n",
      "accuracy over 500 tokens: 98.20\n"
     ]
    }
   ],
   "source": [
    "result = tagger.test([train_dataset[:500]], verbose=True)"
   ]
  },
  {
   "cell_type": "markdown",
   "id": "b807d9aa-f5f6-4edb-bbfc-d048052fb29a",
   "metadata": {},
   "source": [
    "### Точность и энтропия на данных из валидационной выборки\n",
    "\n",
    "* Accuracy: 0.0\n",
    "* Entropy: $\\infty \\Rightarrow$ модель не описывает выборку"
   ]
  },
  {
   "cell_type": "code",
   "execution_count": 29,
   "id": "369370cc-43e0-4c2d-aaa0-4360876afed0",
   "metadata": {},
   "outputs": [
    {
     "name": "stdout",
     "output_type": "stream",
     "text": [
      "Test: детской/ADJ одежды/NOUN сайт/NOUN распространял/VERB информацию/NOUN о/ADP сексуальных/ADJ услугах/NOUN с/ADP участием/NOUN несовершеннолетних/NOUN ,/PUNCT содержал/VERB порнографические/ADJ описания/NOUN детей/NOUN 5-8/NUM лет/NOUN ./PUNCT ранее/ADV провести/VERB проверку/NOUN по/ADP сообщениям/NOUN сми/NOUN пообещали/VERB в/ADP столичном/ADJ управлении/NOUN следственного/ADJ комитета/NOUN россии/PROPN ./PUNCT премьер-министр/NOUN франции/PROPN эдуар/PROPN филипп/PROPN объявил/VERB ,/PUNCT что/SCONJ правительство/NOUN вводит/VERB мораторий/NOUN на/ADP повышение/NOUN тарифов/NOUN на/ADP топливо/NOUN сроком/NOUN на/ADP полгода/NOUN ./PUNCT об/ADP этом/PRON сообщает/VERB агентство/NOUN reuters/PROPN ./PUNCT планировавшийся/VERB рост/NOUN тарифов/NOUN будет/AUX заморожен/VERB с/ADP 1/ADJ января/NOUN 2019/ADJ года/NOUN ./PUNCT такое/DET решение/NOUN было/AUX принято/VERB из-за/ADP массовых/ADJ протестов/NOUN ./PUNCT «/PUNCT этот/DET гнев/NOUN —/PUNCT нужно/ADJ быть/AUX глухим/ADJ или/CCONJ слепым/ADJ ,/PUNCT чтобы/SCONJ не/PART видеть/VERB или/CCONJ не/PART слышать/VERB его/PRON »/PUNCT ,/PUNCT —/PUNCT заявил/VERB филипп/PROPN ./PUNCT «/PUNCT французы/NOUN ,/PUNCT которые/PRON надели/VERB желтые/ADJ жилеты/NOUN ,/PUNCT хотят/VERB ,/PUNCT чтобы/SCONJ налоги/NOUN уменьшились/VERB ,/PUNCT а/CCONJ работа/NOUN оплачивалась/VERB ./PUNCT мы/PRON хотим/VERB того/PRON же/PART самого/ADJ ./PUNCT если/SCONJ у/ADP нас/PRON не/PART вышло/VERB объяснить/VERB это/PRON ,/PUNCT а/CCONJ у/ADP правящего/VERB большинства/NOUN не/PART вышло/VERB убедить/VERB французов/NOUN ,/PUNCT то/SCONJ что-то/PRON должно/ADJ измениться/VERB »/PUNCT ,/PUNCT —/PUNCT добавил/VERB он/PRON ./PUNCT беспорядки/NOUN по/ADP всей/DET франции/PROPN начались/VERB во/ADP время/NOUN манифестаций/NOUN против/ADP повышения/NOUN цен/NOUN на/ADP бензин/NOUN с/ADP середины/NOUN октября/NOUN ./PUNCT протест/NOUN называют/VERB «/PUNCT акцией/NOUN желтых/ADJ жилетов/NOUN »/PUNCT ,/PUNCT поскольку/SCONJ активисты/NOUN одеты/VERB в/ADP желтые/ADJ светоотражающие/ADJ жилеты/NOUN ,/PUNCT которые/PRON обычно/ADV надевают/VERB водители/NOUN ./PUNCT ранее/ADV сообщалось/VERB ,/PUNCT что/SCONJ в/ADP больницы/NOUN за/ADP несколько/NUM дней/NOUN доставлено/VERB более/ADV 500/NUM человек/NOUN с/ADP различными/ADJ травмами/NOUN ./PUNCT в/ADP 2019/ADJ году/NOUN власти/NOUN франции/PROPN планировали/VERB увеличить/VERB налог/NOUN на/ADP дизельное/ADJ топливо/NOUN на/ADP 6,5/NUM процента/NOUN ,/PUNCT а/CCONJ на/ADP бензин/NOUN —/PUNCT на/ADP 2,9/NUM процента/NOUN ./PUNCT правительство/NOUN собиралось/VERB предпринять/VERB такие/DET меры/NOUN ,/PUNCT чтобы/SCONJ стимулировать/VERB водителей/NOUN использовать/VERB более/ADV экологичные/ADJ виды/NOUN транспорта/NOUN ./PUNCT на/ADP фоне/NOUN этих/DET событий/NOUN рейтинг/NOUN президента/NOUN страны/NOUN эммануэля/PROPN макрона/PROPN упал/VERB до/ADP рекордно/ADV низких/ADJ 25/NUM процентов/NOUN ./PUNCT «/PUNCT роскосмос/PROPN »/PUNCT обеспокоен/VERB предстоящим/VERB завершением/NOUN контракта/NOUN с/ADP наса/PROPN по/ADP доставке/NOUN астронавтов/NOUN на/ADP мкс/PROPN на/ADP кораблях/NOUN семейства/NOUN «/PUNCT союз/NOUN »/PUNCT ./PUNCT об/ADP этом/PRON руководитель/NOUN департамента/NOUN пилотируемых/VERB полетов/NOUN американского/ADJ космического/ADJ агентства/NOUN уильям/PROPN герстенмайер/PROPN сообщил/VERB bloomberg/PROPN ./PUNCT «/PUNCT они/PRON явно/ADV обеспокоены/VERB »/PUNCT потерей/NOUN доходов/NOUN от/ADP отправки/NOUN американских/ADJ астронавтов/NOUN на/ADP орбиту/NOUN ,/PUNCT сказал/VERB он/PRON в/ADP ходе/NOUN беседы/NOUN ,/PUNCT состоявшейся/VERB в/ADP москве/PROPN перед/ADP поездкой/NOUN на/ADP байконур/PROPN на/ADP запуск/NOUN корабля/NOUN «/PUNCT союз/NOUN мс-11/PROPN »/PUNCT ./PUNCT по/ADP словам/NOUN герстенмайера/PROPN ,/PUNCT космический/ADJ бюджет/NOUN россии/PROPN ,/PUNCT как/SCONJ и/PART сша/PROPN ,/PUNCT является/VERB частью/NOUN общегосударственного/ADJ дискреционного/ADJ бюджета/NOUN ./PUNCT «/PUNCT роскосмос/PROPN »/PUNCT отказался/VERB назвать/VERB bloomberg/PROPN потери/NOUN ,/PUNCT которые/PRON госкорпорация/NOUN понесет/VERB из-за/ADP прекращения/NOUN доставки/NOUN астронавтов/NOUN на/ADP мкс/PROPN ./PUNCT издание/NOUN отмечает/VERB ,/PUNCT что/SCONJ с/ADP 2011/ADJ года/NOUN наса/PROPN за/ADP доставку/NOUN астронавтов/NOUN на/ADP мкс/PROPN перечислило/VERB «/PUNCT роскосмосу/PROPN »/PUNCT 2,6/NUM миллиарда/NOUN долларов/NOUN ./PUNCT ранее/ADV в/ADP ноябре/NOUN космическую/ADJ программу/NOUN россии/PROPN сочли/VERB фейком/NOUN ./PUNCT в/ADP настоящее/ADJ время/NOUN российские/ADJ «/PUNCT союзы/NOUN »/PUNCT являются/VERB единственным/ADJ средством/NOUN доставки/NOUN людей/NOUN на/ADP мкс/PROPN ./PUNCT в/ADP 2019/ADJ году/NOUN должны/ADJ состояться/VERB первые/ADJ беспилотные/ADJ и/CCONJ пилотируемые/VERB полеты/NOUN к/ADP орбитальной/ADJ станции/NOUN американских/ADJ космических/ADJ кораблей/NOUN starliner/PROPN и/CCONJ dragon/PROPN 2/NUM ./PUNCT контракт/NOUN с/ADP россией/PROPN на/ADP доставку/NOUN астронавтов/NOUN на/ADP мкс/PROPN истекает/VERB в/ADP феврале/NOUN 2020/ADJ года/NOUN ./PUNCT министр/NOUN иностранных/ADJ дел/NOUN сергей/PROPN лавров/PROPN рассказал/VERB ,/PUNCT что/SCONJ правительство/NOUN не/PART может/VERB заставить/VERB российские/ADJ банки/NOUN начать/VERB работу/NOUN в/ADP крыму/PROPN из-за/ADP страха/NOUN западных/ADJ санкций/NOUN ./PUNCT об/ADP этом/PRON сообщает/VERB тасс/PROPN ./PUNCT «/PUNCT правительство/NOUN не/PART может/VERB заставить/VERB банки/NOUN идти/VERB в/ADP регионы/NOUN ,/PUNCT которые/PRON подвержены/ADJ санкциям/NOUN ,/PUNCT абсолютно/ADV несправедливым/ADJ санкциям/NOUN »/PUNCT ,/PUNCT —/PUNCT признался/VERB сергей/PROPN лавров/PROPN ./PUNCT выступая/VERB на/ADP\n",
      "\n",
      "Untagged: детской одежды сайт распространял информацию о сексуальных услугах с участием несовершеннолетних , содержал порнографические описания детей 5-8 лет . ранее провести проверку по сообщениям сми пообещали в столичном управлении следственного комитета россии . премьер-министр франции эдуар филипп объявил , что правительство вводит мораторий на повышение тарифов на топливо сроком на полгода . об этом сообщает агентство reuters . планировавшийся рост тарифов будет заморожен с 1 января 2019 года . такое решение было принято из-за массовых протестов . « этот гнев — нужно быть глухим или слепым , чтобы не видеть или не слышать его » , — заявил филипп . « французы , которые надели желтые жилеты , хотят , чтобы налоги уменьшились , а работа оплачивалась . мы хотим того же самого . если у нас не вышло объяснить это , а у правящего большинства не вышло убедить французов , то что-то должно измениться » , — добавил он . беспорядки по всей франции начались во время манифестаций против повышения цен на бензин с середины октября . протест называют « акцией желтых жилетов » , поскольку активисты одеты в желтые светоотражающие жилеты , которые обычно надевают водители . ранее сообщалось , что в больницы за несколько дней доставлено более 500 человек с различными травмами . в 2019 году власти франции планировали увеличить налог на дизельное топливо на 6,5 процента , а на бензин — на 2,9 процента . правительство собиралось предпринять такие меры , чтобы стимулировать водителей использовать более экологичные виды транспорта . на фоне этих событий рейтинг президента страны эммануэля макрона упал до рекордно низких 25 процентов . « роскосмос » обеспокоен предстоящим завершением контракта с наса по доставке астронавтов на мкс на кораблях семейства « союз » . об этом руководитель департамента пилотируемых полетов американского космического агентства уильям герстенмайер сообщил bloomberg . « они явно обеспокоены » потерей доходов от отправки американских астронавтов на орбиту , сказал он в ходе беседы , состоявшейся в москве перед поездкой на байконур на запуск корабля « союз мс-11 » . по словам герстенмайера , космический бюджет россии , как и сша , является частью общегосударственного дискреционного бюджета . « роскосмос » отказался назвать bloomberg потери , которые госкорпорация понесет из-за прекращения доставки астронавтов на мкс . издание отмечает , что с 2011 года наса за доставку астронавтов на мкс перечислило « роскосмосу » 2,6 миллиарда долларов . ранее в ноябре космическую программу россии сочли фейком . в настоящее время российские « союзы » являются единственным средством доставки людей на мкс . в 2019 году должны состояться первые беспилотные и пилотируемые полеты к орбитальной станции американских космических кораблей starliner и dragon 2 . контракт с россией на доставку астронавтов на мкс истекает в феврале 2020 года . министр иностранных дел сергей лавров рассказал , что правительство не может заставить российские банки начать работу в крыму из-за страха западных санкций . об этом сообщает тасс . « правительство не может заставить банки идти в регионы , которые подвержены санкциям , абсолютно несправедливым санкциям » , — признался сергей лавров . выступая на\n",
      "\n",
      "HMM-tagged: детской/X одежды/X сайт/X распространял/X информацию/X о/X сексуальных/X услугах/X с/X участием/X несовершеннолетних/X ,/X содержал/X порнографические/X описания/X детей/X 5-8/X лет/X ./X ранее/X провести/X проверку/X по/X сообщениям/X сми/X пообещали/X в/X столичном/X управлении/X следственного/X комитета/X россии/X ./X премьер-министр/X франции/X эдуар/X филипп/X объявил/X ,/X что/X правительство/X вводит/X мораторий/X на/X повышение/X тарифов/X на/X топливо/X сроком/X на/X полгода/X ./X об/X этом/X сообщает/X агентство/X reuters/X ./X планировавшийся/X рост/X тарифов/X будет/X заморожен/X с/X 1/X января/X 2019/X года/X ./X такое/X решение/X было/X принято/X из-за/X массовых/X протестов/X ./X «/X этот/X гнев/X —/X нужно/X быть/X глухим/X или/X слепым/X ,/X чтобы/X не/X видеть/X или/X не/X слышать/X его/X »/X ,/X —/X заявил/X филипп/X ./X «/X французы/X ,/X которые/X надели/X желтые/X жилеты/X ,/X хотят/X ,/X чтобы/X налоги/X уменьшились/X ,/X а/X работа/X оплачивалась/X ./X мы/X хотим/X того/X же/X самого/X ./X если/X у/X нас/X не/X вышло/X объяснить/X это/X ,/X а/X у/X правящего/X большинства/X не/X вышло/X убедить/X французов/X ,/X то/X что-то/X должно/X измениться/X »/X ,/X —/X добавил/X он/X ./X беспорядки/X по/X всей/X франции/X начались/X во/X время/X манифестаций/X против/X повышения/X цен/X на/X бензин/X с/X середины/X октября/X ./X протест/X называют/X «/X акцией/X желтых/X жилетов/X »/X ,/X поскольку/X активисты/X одеты/X в/X желтые/X светоотражающие/X жилеты/X ,/X которые/X обычно/X надевают/X водители/X ./X ранее/X сообщалось/X ,/X что/X в/X больницы/X за/X несколько/X дней/X доставлено/X более/X 500/X человек/X с/X различными/X травмами/X ./X в/X 2019/X году/X власти/X франции/X планировали/X увеличить/X налог/X на/X дизельное/X топливо/X на/X 6,5/X процента/X ,/X а/X на/X бензин/X —/X на/X 2,9/X процента/X ./X правительство/X собиралось/X предпринять/X такие/X меры/X ,/X чтобы/X стимулировать/X водителей/X использовать/X более/X экологичные/X виды/X транспорта/X ./X на/X фоне/X этих/X событий/X рейтинг/X президента/X страны/X эммануэля/X макрона/X упал/X до/X рекордно/X низких/X 25/X процентов/X ./X «/X роскосмос/X »/X обеспокоен/X предстоящим/X завершением/X контракта/X с/X наса/X по/X доставке/X астронавтов/X на/X мкс/X на/X кораблях/X семейства/X «/X союз/X »/X ./X об/X этом/X руководитель/X департамента/X пилотируемых/X полетов/X американского/X космического/X агентства/X уильям/X герстенмайер/X сообщил/X bloomberg/X ./X «/X они/X явно/X обеспокоены/X »/X потерей/X доходов/X от/X отправки/X американских/X астронавтов/X на/X орбиту/X ,/X сказал/X он/X в/X ходе/X беседы/X ,/X состоявшейся/X в/X москве/X перед/X поездкой/X на/X байконур/X на/X запуск/X корабля/X «/X союз/X мс-11/X »/X ./X по/X словам/X герстенмайера/X ,/X космический/X бюджет/X россии/X ,/X как/X и/X сша/X ,/X является/X частью/X общегосударственного/X дискреционного/X бюджета/X ./X «/X роскосмос/X »/X отказался/X назвать/X bloomberg/X потери/X ,/X которые/X госкорпорация/X понесет/X из-за/X прекращения/X доставки/X астронавтов/X на/X мкс/X ./X издание/X отмечает/X ,/X что/X с/X 2011/X года/X наса/X за/X доставку/X астронавтов/X на/X мкс/X перечислило/X «/X роскосмосу/X »/X 2,6/X миллиарда/X долларов/X ./X ранее/X в/X ноябре/X космическую/X программу/X россии/X сочли/X фейком/X ./X в/X настоящее/X время/X российские/X «/X союзы/X »/X являются/X единственным/X средством/X доставки/X людей/X на/X мкс/X ./X в/X 2019/X году/X должны/X состояться/X первые/X беспилотные/X и/X пилотируемые/X полеты/X к/X орбитальной/X станции/X американских/X космических/X кораблей/X starliner/X и/X dragon/X 2/X ./X контракт/X с/X россией/X на/X доставку/X астронавтов/X на/X мкс/X истекает/X в/X феврале/X 2020/X года/X ./X министр/X иностранных/X дел/X сергей/X лавров/X рассказал/X ,/X что/X правительство/X не/X может/X заставить/X российские/X банки/X начать/X работу/X в/X крыму/X из-за/X страха/X западных/X санкций/X ./X об/X этом/X сообщает/X тасс/X ./X «/X правительство/X не/X может/X заставить/X банки/X идти/X в/X регионы/X ,/X которые/X подвержены/X санкциям/X ,/X абсолютно/X несправедливым/X санкциям/X »/X ,/X —/X признался/X сергей/X лавров/X ./X выступая/X на/X\n",
      "\n",
      "Entropy: inf\n",
      "\n",
      "------------------------------------------------------------\n",
      "accuracy over 500 tokens: 0.00\n"
     ]
    }
   ],
   "source": [
    "result = tagger.test([val_dataset[:500]], verbose=True)"
   ]
  },
  {
   "cell_type": "code",
   "execution_count": null,
   "id": "1ff09def-cc23-4ca8-9ba2-2cee2733e469",
   "metadata": {},
   "outputs": [],
   "source": []
  }
 ],
 "metadata": {
  "kernelspec": {
   "display_name": "Python 3",
   "language": "python",
   "name": "python3"
  },
  "language_info": {
   "codemirror_mode": {
    "name": "ipython",
    "version": 3
   },
   "file_extension": ".py",
   "mimetype": "text/x-python",
   "name": "python",
   "nbconvert_exporter": "python",
   "pygments_lexer": "ipython3",
   "version": "3.9.5"
  }
 },
 "nbformat": 4,
 "nbformat_minor": 5
}
