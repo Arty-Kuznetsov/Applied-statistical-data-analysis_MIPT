{
 "cells": [
  {
   "cell_type": "markdown",
   "id": "39936c1e-9c03-4109-b92f-6e89ecdf6f9e",
   "metadata": {},
   "source": [
    "## Задача 2.1\n",
    "Выборка : https://github.com/andriygav/PSAD/blob/master/labs/lab2/data/2.1.csv\n",
    "\n",
    "Рассматривается задача тестирования вакцины от некоторого вируса. Производство вакцины очень дорогое и затратное по времени, поэтому в день может быть произведена только одна ампула.\n",
    "\n",
    "Требуется проверить, что вакцина помогает (вероятность заразиться меньше у человека с вакциной чем у человека без вакцины).\n",
    "\n",
    "Эксперимент ставится следующим образом: каждый день есть два идентичных по здоровью человека. Один из людей принимает вакцину, а второй нет, после чего обоих ставят в одну среду с вирусом. В конце для проверяют кто заразился. (В таблице: s --- sick; h --- healthy)\n",
    "\n",
    "Весь мир ждет вакцину от данного вируса, поэтому к руководству института постоянно приходят запросы о сроках завершения тестирования образца. Руководство поручило Вам оценить среднее время, которое понадобится на тестирования данной вакцины. А также провести анализ полученных данных на уровне значимости \\alpha=0.05 и при ошибке второго рода beta=0.2.\n",
    "\n",
    "\n",
    "Требуется:\n",
    "\n",
    "1. Записать задачу формально;\n",
    "2. Выполнить оценку среднего количества дней для принятия решения (учесть что истинная вероятность заразиться с вакциной и без равны p_1 = 0.2, p_2 = 0.5 соответственно);\n",
    "3. Выполнить анализ данных и выяснить работает ли вакцина или нет.\n",
    "\n",
    "Все выкладки должны быть сделаны аналитически, без использования компьютера.\n"
   ]
  },
  {
   "cell_type": "markdown",
   "id": "14f6c0eb-3294-4000-86f8-11dea27c49c6",
   "metadata": {
    "tags": []
   },
   "source": [
    "### Решение\n",
    "\n",
    "1. Запишем задачу формально. Пусть заданы 2 связные выборки: $X_1^m = (X_{11}, \\ldots, X_{1m}), ~ X_1 \\sim Ber(p_1), ~X_2^m = (X_{21}, \\ldots, X_{2m}), X_2 \\sim Ber(p_2)$. Здесь $p_1, p_2$ -- вероятность заболеть. Первая выборка -- наблюдения за невакцинированными, вторая -- за вакцинированными.\n",
    "\n",
    "\n",
    "Введем относительный риск: $u = \\frac{p_1(1 - p_2)}{p_2(1 - p_1)}$. Рассмотрим значение относительного риска при $p_1 = 0.5, p_2 = 0.2 \\Rightarrow u = \\frac{0.5 * 0.8}{0.2 * 0.5} = 4$.\n",
    "\n",
    "Пусть $u_L = 1, ~ u_U = 4$\n",
    "\n",
    "\n",
    "нулевая гипотеза $H_0: u \\geq u_U$\n",
    "\n",
    "альтернатива $H_1: u < u_L$\n",
    "\n",
    "\n",
    "Статистика: $d_m(X_1^m, X_2^m) = \\sum_{i=1}^m(1 - X_{1i})X_{2i}$\n",
    "\n",
    "Константы последовательного анализа: $a_m = \\frac{\\ln B + m\\ln\\frac{1 + u_U}{1 + u_L}}{\\ln u_U - \\ln u_L}, \n",
    "r_m = \\frac{\\ln A + m\\ln \\frac{1 + u_U}{1 + u_L}}{\\ln u_U - \\ln u_L}$, где $A = (1 - \\beta)/\\alpha, ~B = \\beta / (1 - \\alpha)$\n",
    "\n",
    "Решающее правило: отвергаем $H_0$ на шаге $m$, если $d_m \\geq r_m$; принимаем $H_0$ на шаге $m$, если $d_m \\leq a_m$; иначе добавляем новый элемент выборки.\n",
    "\n",
    "\n",
    "2. Среднее число шагов до принятия решения:\n",
    "\n",
    "$$\n",
    "\\mathbb{E}_u(n) = \\frac{L(u)\\ln B + (1 - L(u))\\ln A}{u/(u+1)\\ln\\frac{u_U(1 + u_L)}{u_L(1+u_U)} + 1/(u+1)\\ln\\frac{1 + u_L}{1 + u_U}} / (p_1(1 - p_2) + p_2(1 - p_1)),\n",
    "$$\n",
    "\n",
    "где $L(u) = \\frac{A^h - 1}{A^h - B^h}$, $h = h(u)$ находится из уравнения: $\\frac{u}{u+1} = \\frac{1 - ((1 + u_L)/(1 + u_U))^h}{[u_U(1 + u_L)/(u_L(1 + u_U))]^h - [(1 + u_L)/(1 + u_U)]^h}$\n",
    "\n",
    "а) Вычислим среднее число шагов при $u = u_L = 1$. Найдем $h$ из уравнения:\n",
    "\n",
    "$\\frac{1}{2} = \\frac{1 - 0.4^h}{1.6^h - 0.4^h} \\Rightarrow h = 1 \\Rightarrow \\boxed{E_{u_L}(n) \\approx 12}$\n",
    "\n",
    "б) Вычислим среднее число шагов при $u = u_U = 4$. Найдем $h$ из уравнения:\n",
    "\n",
    "$0.8 = \\frac{1 - 0.4^h}{1.6^h - 0.4^h} \\Rightarrow h = -1 \\Rightarrow \\boxed{E_{u_U}(n) \\approx 20}$\n",
    "\n",
    "Ниже код с расчетами:\n"
   ]
  },
  {
   "cell_type": "code",
   "execution_count": 1,
   "id": "bc316376-ad1d-4a3c-ae65-deb1008568ac",
   "metadata": {},
   "outputs": [],
   "source": [
    "import numpy as np"
   ]
  },
  {
   "cell_type": "code",
   "execution_count": 2,
   "id": "17b899ac-dbc7-4c40-a9a9-de4e01fab391",
   "metadata": {},
   "outputs": [
    {
     "name": "stdout",
     "output_type": "stream",
     "text": [
      "E_u_l(n) = 12.02\n",
      "--------------------\n",
      "E_u_u(n) = 19.78\n"
     ]
    }
   ],
   "source": [
    "p_1, p_2 = 0.5, 0.2\n",
    "u_l, u_u = 1, 4\n",
    "alpha, beta = 0.05, 0.2\n",
    "A, B = (1 - beta) / alpha, beta / (1 - alpha)\n",
    "\n",
    "u_u * (1 + u_l) / u_l / (1 + u_u), (1 + u_l) / (1 + u_u)\n",
    "h = 1\n",
    "\n",
    "\n",
    "\n",
    "def mean_steps(u, h):\n",
    "    L = (A ** h - 1) / (A ** h - B ** h)\n",
    "    return (L * np.log(B)+(1-L) * np.log(A)) / \\\n",
    "    (u/(u+1) * np.log(u_u*(1+u_l)/(u_l*(1+u_u))) + 1/(1+u)*np.log((1+u_l)/(1+u_u))) /\\\n",
    "    (p_1 * (1 - p_2) + p_2 * (1 - p_1))\n",
    "\n",
    "u = u_l\n",
    "print(f'E_u_l(n) = {mean_steps(u_l, 1):.2f}')\n",
    "print('-' * 20)\n",
    "print(f'E_u_u(n) = {mean_steps(u_u, -1):.2f}')\n",
    "\n"
   ]
  },
  {
   "cell_type": "markdown",
   "id": "b8021c1b-223e-4873-811b-a7f5a09c42e6",
   "metadata": {},
   "source": [
    "3. Выполнить анализ данных и выяснить работает ли вакцина или нет.\n",
    "\n",
    "Мы принимаем нулевую гипотезу. Следовательно, вакцина работает."
   ]
  },
  {
   "cell_type": "code",
   "execution_count": 3,
   "id": "7cc959fe-0a26-4ba7-bc93-29d6cd15c712",
   "metadata": {},
   "outputs": [],
   "source": [
    "import numpy as np\n",
    "from matplotlib import pyplot as plt\n",
    "import pandas as pd\n",
    "import seaborn as sns\n",
    "sns.set()"
   ]
  },
  {
   "cell_type": "code",
   "execution_count": 4,
   "id": "0347c46c-c128-440e-b81f-143f3fb6e347",
   "metadata": {},
   "outputs": [
    {
     "data": {
      "text/html": [
       "<div>\n",
       "<style scoped>\n",
       "    .dataframe tbody tr th:only-of-type {\n",
       "        vertical-align: middle;\n",
       "    }\n",
       "\n",
       "    .dataframe tbody tr th {\n",
       "        vertical-align: top;\n",
       "    }\n",
       "\n",
       "    .dataframe thead th {\n",
       "        text-align: right;\n",
       "    }\n",
       "</style>\n",
       "<table border=\"1\" class=\"dataframe\">\n",
       "  <thead>\n",
       "    <tr style=\"text-align: right;\">\n",
       "      <th></th>\n",
       "      <th>with vaccine</th>\n",
       "      <th>without vaccine</th>\n",
       "    </tr>\n",
       "  </thead>\n",
       "  <tbody>\n",
       "    <tr>\n",
       "      <th>0</th>\n",
       "      <td>h</td>\n",
       "      <td>h</td>\n",
       "    </tr>\n",
       "    <tr>\n",
       "      <th>1</th>\n",
       "      <td>h</td>\n",
       "      <td>s</td>\n",
       "    </tr>\n",
       "    <tr>\n",
       "      <th>2</th>\n",
       "      <td>h</td>\n",
       "      <td>s</td>\n",
       "    </tr>\n",
       "    <tr>\n",
       "      <th>3</th>\n",
       "      <td>h</td>\n",
       "      <td>h</td>\n",
       "    </tr>\n",
       "    <tr>\n",
       "      <th>4</th>\n",
       "      <td>h</td>\n",
       "      <td>h</td>\n",
       "    </tr>\n",
       "  </tbody>\n",
       "</table>\n",
       "</div>"
      ],
      "text/plain": [
       "  with vaccine without vaccine\n",
       "0            h               h\n",
       "1            h               s\n",
       "2            h               s\n",
       "3            h               h\n",
       "4            h               h"
      ]
     },
     "execution_count": 4,
     "metadata": {},
     "output_type": "execute_result"
    }
   ],
   "source": [
    "df = pd.read_csv('https://raw.githubusercontent.com/Intelligent-Systems-Phystech/psad/master/labs/lab2/data/2.1.csv')\n",
    "df.head()"
   ]
  },
  {
   "cell_type": "code",
   "execution_count": 5,
   "id": "cd45fe17-ae15-447c-973a-433facd15296",
   "metadata": {},
   "outputs": [],
   "source": [
    "X = (df == 's').to_numpy().astype(np.float32)\n",
    "# оставим только различающиеся пары\n",
    "X = X[X[:, 0] != X[:, 1]]\n",
    "d = np.cumsum((1 - X[:, 1]) * X[:, 0])"
   ]
  },
  {
   "cell_type": "code",
   "execution_count": 6,
   "id": "87ffb599-9b14-4e90-8557-46ab99a87b25",
   "metadata": {},
   "outputs": [
    {
     "data": {
      "image/png": "[encoded data removed]",
      "text/plain": [
       "<Figure size 720x360 with 1 Axes>"
      ]
     },
     "metadata": {},
     "output_type": "display_data"
    },
    {
     "name": "stdout",
     "output_type": "stream",
     "text": [
      "Result: Accept\n"
     ]
    }
   ],
   "source": [
    "def a(m: np.array):\n",
    "    return (np.log(B) + m * np.log((1 + u_u) / (1 + u_l))) / np.log(u_u / u_l)\n",
    "\n",
    "def r(m: np.array):\n",
    "    return (np.log(A) + m * np.log((1 + u_u) / (1 + u_l))) / np.log(u_u / u_l)\n",
    "    \n",
    "\n",
    "m = np.array(range(1, X.shape[0] + 1))\n",
    "plt.figure(figsize=(10, 5))\n",
    "plt.plot(m, a(m), label='a(m)')\n",
    "plt.plot(m, r(m), label='r(m)')\n",
    "plt.scatter(m, d, label='d(m)')\n",
    "\n",
    "plt.xlabel('m')\n",
    "plt.legend();plt.show()\n",
    "\n",
    "\n",
    "for a_m, r_m, d_m in zip(a(m), r(m), d):\n",
    "    if d_m <= a_m:\n",
    "        print('Result: Accept')\n",
    "        break\n",
    "    if d_m >= r_m:\n",
    "        print('Result: Reject')\n",
    "        break"
   ]
  },
  {
   "cell_type": "code",
   "execution_count": null,
   "id": "2f8ebb91-8658-41dc-b202-5c25d6dce23b",
   "metadata": {},
   "outputs": [],
   "source": []
  }
 ],
 "metadata": {
  "kernelspec": {
   "display_name": "Python 3",
   "language": "python",
   "name": "python3"
  },
  "language_info": {
   "codemirror_mode": {
    "name": "ipython",
    "version": 3
   },
   "file_extension": ".py",
   "mimetype": "text/x-python",
   "name": "python",
   "nbconvert_exporter": "python",
   "pygments_lexer": "ipython3",
   "version": "3.9.5"
  }
 },
 "nbformat": 4,
 "nbformat_minor": 5
}
